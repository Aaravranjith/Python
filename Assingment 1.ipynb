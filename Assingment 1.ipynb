{
 "cells": [
  {
   "cell_type": "code",
   "execution_count": 12,
   "id": "76f3a1b3",
   "metadata": {},
   "outputs": [
    {
     "data": {
      "text/plain": [
       "\"1.In the below elements which of them are values or an expression? eg:- values can be\\ninteger or string and expressions will be mathematical operators.\\n*\\n'hello'\\n-87.8\\n-\\n/\\n+\\n6\""
      ]
     },
     "execution_count": 12,
     "metadata": {},
     "output_type": "execute_result"
    }
   ],
   "source": [
    "\"\"\"1.In the below elements which of them are values or an expression? eg:- values can be\n",
    "integer or string and expressions will be mathematical operators.\n",
    "*\n",
    "'hello'\n",
    "-87.8\n",
    "-\n",
    "/\n",
    "+\n",
    "6\"\"\"\n",
    "\n",
    "#Values =6, -87.8, \"hello\"\n",
    "\n",
    "#Expressions - *,-,"
   ]
  },
  {
   "cell_type": "code",
   "execution_count": 2,
   "id": "ea11bc4a",
   "metadata": {},
   "outputs": [
    {
     "data": {
      "text/plain": [
       "'2. What is the difference between string and variable?'"
      ]
     },
     "execution_count": 2,
     "metadata": {},
     "output_type": "execute_result"
    }
   ],
   "source": [
    "\"\"\"2. What is the difference between string and variable?\"\"\"\n",
    "\n",
    "# Variable is the name of the location in the RAM for the value given by us.\n",
    "# string is the data type which has values within the quotes\n"
   ]
  },
  {
   "cell_type": "code",
   "execution_count": 10,
   "id": "e9724976",
   "metadata": {},
   "outputs": [
    {
     "data": {
      "text/plain": [
       "'Describe three different data types.'"
      ]
     },
     "execution_count": 10,
     "metadata": {},
     "output_type": "execute_result"
    }
   ],
   "source": [
    "\"\"\"3.Describe three different data types.\"\"\"\n",
    "\n",
    "#integer(which has only numbers), float(which has the numbers with decimal value), complex number(which has real and imaginary numbers), string(which has text values)\n",
    "\n"
   ]
  },
  {
   "cell_type": "code",
   "execution_count": null,
   "id": "67c44a92",
   "metadata": {},
   "outputs": [],
   "source": [
    "\"\"\"4. What is an expression made up of? What do all expressions do?\"\"\"\n",
    "#an expression is made up of variables, operators, etc for creating the syntax for executing the operations as user wants."
   ]
  },
  {
   "cell_type": "code",
   "execution_count": 13,
   "id": "abd1ac71",
   "metadata": {},
   "outputs": [
    {
     "data": {
      "text/plain": [
       "'5. This assignment statements, like spam = 10. What is the difference between an\\nexpression and a statement?'"
      ]
     },
     "execution_count": 13,
     "metadata": {},
     "output_type": "execute_result"
    }
   ],
   "source": [
    "\"\"\"5. This assignment statements, like spam = 10. What is the difference between an\n",
    "expression and a statement?\"\"\"\n",
    "\n",
    "#= is expression\n",
    "#spam=10 is the statement\n",
    "# expressions are the part of the statement"
   ]
  },
  {
   "cell_type": "code",
   "execution_count": 14,
   "id": "ad1b3a3b",
   "metadata": {},
   "outputs": [
    {
     "data": {
      "text/plain": [
       "23"
      ]
     },
     "execution_count": 14,
     "metadata": {},
     "output_type": "execute_result"
    }
   ],
   "source": [
    "\"\"\"6. After running the following code, what does the variable bacon contain?\n",
    "bacon = 22\n",
    "bacon + 1\"\"\"\n",
    "\n",
    "bacon = 22\n",
    "bacon+1\n"
   ]
  },
  {
   "cell_type": "code",
   "execution_count": 23,
   "id": "b266e1b1",
   "metadata": {},
   "outputs": [
    {
     "data": {
      "text/plain": [
       "'spamspamspam'"
      ]
     },
     "execution_count": 23,
     "metadata": {},
     "output_type": "execute_result"
    }
   ],
   "source": [
    "\"\"\"7. What should the values of the following two terms be?\n",
    "spam + spamspam;\n",
    "spam * 3\"\"\"\n",
    "\n",
    "\"spam\" + \"spamspam\"\n",
    "\n",
    "\"spam\"*3\n",
    "\n"
   ]
  },
  {
   "cell_type": "code",
   "execution_count": 24,
   "id": "b137f322",
   "metadata": {},
   "outputs": [
    {
     "data": {
      "text/plain": [
       "'8. Why is eggs a valid variable name while 100 is invalid?'"
      ]
     },
     "execution_count": 24,
     "metadata": {},
     "output_type": "execute_result"
    }
   ],
   "source": [
    "\"\"\"8. Why is eggs a valid variable name while 100 is invalid?\"\"\"\n",
    "\n",
    "# because integer cannot be valid variable name whereas string can be a variable name"
   ]
  },
  {
   "cell_type": "code",
   "execution_count": 32,
   "id": "4daeebda",
   "metadata": {},
   "outputs": [
    {
     "data": {
      "text/plain": [
       "'9. What three functions can be used to get the integer, floating-point number, or string\\nversion of a value?'"
      ]
     },
     "execution_count": 32,
     "metadata": {},
     "output_type": "execute_result"
    }
   ],
   "source": [
    "\"\"\"9. What three functions can be used to get the integer, floating-point number, or string\n",
    "version of a value?\"\"\"\n",
    "\n",
    "# int(), float(), str()\n",
    "\n"
   ]
  },
  {
   "cell_type": "code",
   "execution_count": 49,
   "id": "3ffbd8d0",
   "metadata": {},
   "outputs": [
    {
     "name": "stdout",
     "output_type": "stream",
     "text": [
      "I have eaten99 burritos.\n"
     ]
    }
   ],
   "source": [
    "\"\"\"10. Why does this expression cause an error? How can you fix it?\n",
    "\"I have eaten\"  + 99 + burritos.\"\"\"\n",
    "\n",
    "#we cannot add integer and string\n",
    "\n",
    "a=\"I have eaten\"\n",
    "b= 99\n",
    "c=\" burritos.\"\n",
    "\n",
    "x=a + str(99)+str(c)\n",
    "print(x)"
   ]
  },
  {
   "cell_type": "code",
   "execution_count": null,
   "id": "c0474374",
   "metadata": {},
   "outputs": [],
   "source": []
  }
 ],
 "metadata": {
  "kernelspec": {
   "display_name": "Python 3 (ipykernel)",
   "language": "python",
   "name": "python3"
  },
  "language_info": {
   "codemirror_mode": {
    "name": "ipython",
    "version": 3
   },
   "file_extension": ".py",
   "mimetype": "text/x-python",
   "name": "python",
   "nbconvert_exporter": "python",
   "pygments_lexer": "ipython3",
   "version": "3.9.7"
  }
 },
 "nbformat": 4,
 "nbformat_minor": 5
}
